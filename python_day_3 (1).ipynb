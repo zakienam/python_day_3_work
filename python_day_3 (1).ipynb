{
 "cells": [
  {
   "cell_type": "code",
   "execution_count": null,
   "id": "73693b0c-fcb7-4ce4-aceb-85418888ccd7",
   "metadata": {},
   "outputs": [],
   "source": [
    "continuation with strings :"
   ]
  },
  {
   "cell_type": "code",
   "execution_count": null,
   "id": "3c46b485-b149-49f8-a09e-eb5329efd0e6",
   "metadata": {},
   "outputs": [],
   "source": []
  },
  {
   "cell_type": "code",
   "execution_count": null,
   "id": "bdb3a148-aaf0-40e3-8061-eaf1f9d115ab",
   "metadata": {},
   "outputs": [],
   "source": [
    "understanding the concept of f strings :"
   ]
  },
  {
   "cell_type": "code",
   "execution_count": 5,
   "id": "b33ff6c1-db4e-497c-ac95-ea9352cb54ff",
   "metadata": {},
   "outputs": [],
   "source": [
    "# General syntax of f strings :"
   ]
  },
  {
   "cell_type": "code",
   "execution_count": null,
   "id": "a1c800c1-0585-4ea4-b1ec-2498ae237fcb",
   "metadata": {},
   "outputs": [],
   "source": [
    "f\"custom message {placeholder -1} {placeholder -2}........{placeholder...N}\""
   ]
  },
  {
   "cell_type": "code",
   "execution_count": null,
   "id": "fc8908f9-a116-43f4-aad5-7b8a82bdfa10",
   "metadata": {},
   "outputs": [],
   "source": []
  },
  {
   "cell_type": "code",
   "execution_count": 6,
   "id": "5d0a8346-2901-4971-9b02-ac358c8e5aa8",
   "metadata": {},
   "outputs": [],
   "source": [
    "firstname = \"pradeep\""
   ]
  },
  {
   "cell_type": "code",
   "execution_count": 7,
   "id": "ec21a610-0e73-4168-9219-7599b9f09021",
   "metadata": {},
   "outputs": [],
   "source": [
    "lastname = \"kumar\""
   ]
  },
  {
   "cell_type": "code",
   "execution_count": null,
   "id": "f8cb5390-d5d6-486e-a828-fdc79b06a801",
   "metadata": {},
   "outputs": [],
   "source": [
    "# req : i want to get the full name...?"
   ]
  },
  {
   "cell_type": "code",
   "execution_count": 12,
   "id": "4a7436bc-64aa-4167-9b10-e24d7a4f4e75",
   "metadata": {},
   "outputs": [
    {
     "name": "stdout",
     "output_type": "stream",
     "text": [
      "pradeep kumar\n"
     ]
    }
   ],
   "source": [
    "fullname = f\"{firstname} {lastname}\"\n",
    "print(fullname)"
   ]
  },
  {
   "cell_type": "code",
   "execution_count": 13,
   "id": "f2ae0a0a-0352-412d-a0b5-1bd5de491fab",
   "metadata": {},
   "outputs": [
    {
     "name": "stdout",
     "output_type": "stream",
     "text": [
      "Pradeep Kumar\n"
     ]
    }
   ],
   "source": [
    "print(fullname.title())"
   ]
  },
  {
   "cell_type": "code",
   "execution_count": 14,
   "id": "bd1409d7-428b-4317-9654-12e1893900e6",
   "metadata": {},
   "outputs": [
    {
     "name": "stdout",
     "output_type": "stream",
     "text": [
      "keep up the good work, Pradeep Kumar\n"
     ]
    }
   ],
   "source": [
    "message = f\"keep up the good work, {fullname.title()}\"\n",
    "print(message)"
   ]
  },
  {
   "cell_type": "code",
   "execution_count": null,
   "id": "9290e085-7bc7-469a-abd7-e2a06107750e",
   "metadata": {},
   "outputs": [],
   "source": []
  },
  {
   "cell_type": "code",
   "execution_count": null,
   "id": "e61f629f-67b4-41a3-b05b-1689abf64e74",
   "metadata": {},
   "outputs": [],
   "source": [
    "Adding whitespaces to strings :"
   ]
  },
  {
   "cell_type": "code",
   "execution_count": 16,
   "id": "0348843d-1b70-4486-8326-8a88c4f85611",
   "metadata": {},
   "outputs": [
    {
     "name": "stdout",
     "output_type": "stream",
     "text": [
      "fav_prog_language:pythonjavac++swiftc\n"
     ]
    }
   ],
   "source": [
    "print(\"fav_prog_language:pythonjavac++swiftc\")"
   ]
  },
  {
   "cell_type": "code",
   "execution_count": 18,
   "id": "7aabeb65-2650-4e87-8c36-95c3dc396db0",
   "metadata": {},
   "outputs": [
    {
     "name": "stdout",
     "output_type": "stream",
     "text": [
      "fav_prog_language:\n",
      "python\n",
      "java\n",
      "c++\n",
      "swift\n",
      "c\n"
     ]
    }
   ],
   "source": [
    "print(\"fav_prog_language:\\npython\\njava\\nc++\\nswift\\nc\")"
   ]
  },
  {
   "cell_type": "code",
   "execution_count": 19,
   "id": "6133c059-0887-4db6-a41c-54067ff944a3",
   "metadata": {},
   "outputs": [],
   "source": [
    "# \\n------> new line delimiter"
   ]
  },
  {
   "cell_type": "code",
   "execution_count": 22,
   "id": "4fca86a0-e55b-4ade-991c-78959b66332d",
   "metadata": {},
   "outputs": [
    {
     "name": "stdout",
     "output_type": "stream",
     "text": [
      "fav_prog_language:\n",
      "\tpython\n",
      "\tjava\n",
      "\tc++\n",
      "\tswift\n",
      "\tc\n"
     ]
    }
   ],
   "source": [
    "print(\"fav_prog_language:\\n\\tpython\\n\\tjava\\n\\tc++\\n\\tswift\\n\\tc\")"
   ]
  },
  {
   "cell_type": "code",
   "execution_count": null,
   "id": "cd6c327d-bf95-4b0f-b5d3-3d45a675239b",
   "metadata": {},
   "outputs": [],
   "source": [
    "\\t ===>Tab delimitexr"
   ]
  },
  {
   "cell_type": "code",
   "execution_count": null,
   "id": "9dbcb19e-418d-4b15-8c9c-34c9c7238867",
   "metadata": {},
   "outputs": [],
   "source": []
  },
  {
   "cell_type": "code",
   "execution_count": null,
   "id": "3371967b-0d6d-4f80-bfd2-946880a8740e",
   "metadata": {},
   "outputs": [],
   "source": [
    "Removing whitespace from the strings:"
   ]
  },
  {
   "cell_type": "code",
   "execution_count": 24,
   "id": "90c30180-f6ac-4c94-a682-492e74edfd02",
   "metadata": {},
   "outputs": [
    {
     "name": "stdout",
     "output_type": "stream",
     "text": [
      "  python\n"
     ]
    }
   ],
   "source": [
    "name = \"  python\"   # gap is on the left side ....\n",
    "print(name)"
   ]
  },
  {
   "cell_type": "code",
   "execution_count": 25,
   "id": "dfe44fec-36fd-41c7-872c-2ed089dd194c",
   "metadata": {},
   "outputs": [
    {
     "name": "stdout",
     "output_type": "stream",
     "text": [
      "python  \n"
     ]
    }
   ],
   "source": [
    "name2 = \"python  \"  # gap is on the right side ....\n",
    "print(name2)"
   ]
  },
  {
   "cell_type": "code",
   "execution_count": 27,
   "id": "0f986f86-48c9-4b44-886a-1dc7e8630fe4",
   "metadata": {},
   "outputs": [
    {
     "name": "stdout",
     "output_type": "stream",
     "text": [
      "python\n"
     ]
    }
   ],
   "source": [
    "name3 = \"python\"\n",
    "print(name3)"
   ]
  },
  {
   "cell_type": "code",
   "execution_count": 28,
   "id": "328697e2-401d-481b-aaac-affee4a3b6e3",
   "metadata": {},
   "outputs": [
    {
     "data": {
      "text/plain": [
       "'python'"
      ]
     },
     "execution_count": 28,
     "metadata": {},
     "output_type": "execute_result"
    }
   ],
   "source": [
    "name.lstrip()"
   ]
  },
  {
   "cell_type": "code",
   "execution_count": 31,
   "id": "7118145c-3e8e-4e47-9795-11be5429e9d8",
   "metadata": {},
   "outputs": [
    {
     "data": {
      "text/plain": [
       "'python'"
      ]
     },
     "execution_count": 31,
     "metadata": {},
     "output_type": "execute_result"
    }
   ],
   "source": [
    "name2.rstrip()"
   ]
  },
  {
   "cell_type": "code",
   "execution_count": 33,
   "id": "92dea726-a291-41a3-b05c-c1c1743f6e46",
   "metadata": {},
   "outputs": [
    {
     "name": "stdout",
     "output_type": "stream",
     "text": [
      "  python   \n"
     ]
    }
   ],
   "source": [
    "name4 = \"  python   \"\n",
    "print(name4)"
   ]
  },
  {
   "cell_type": "code",
   "execution_count": 34,
   "id": "9c2bc77a-66b8-4fff-b16a-32cb305be42a",
   "metadata": {},
   "outputs": [
    {
     "data": {
      "text/plain": [
       "'python'"
      ]
     },
     "execution_count": 34,
     "metadata": {},
     "output_type": "execute_result"
    }
   ],
   "source": [
    "name4.strip()"
   ]
  },
  {
   "cell_type": "code",
   "execution_count": null,
   "id": "35abce16-fd91-4f61-9f96-782bd6496b72",
   "metadata": {},
   "outputs": [],
   "source": []
  },
  {
   "cell_type": "code",
   "execution_count": null,
   "id": "d14fc472-1686-467f-8da0-335c994d3651",
   "metadata": {},
   "outputs": [],
   "source": []
  },
  {
   "cell_type": "code",
   "execution_count": null,
   "id": "4114a344-038a-4fac-bf46-d5e1db8c478c",
   "metadata": {},
   "outputs": [],
   "source": []
  }
 ],
 "metadata": {
  "kernelspec": {
   "display_name": "Python 3 (ipykernel)",
   "language": "python",
   "name": "python3"
  },
  "language_info": {
   "codemirror_mode": {
    "name": "ipython",
    "version": 3
   },
   "file_extension": ".py",
   "mimetype": "text/x-python",
   "name": "python",
   "nbconvert_exporter": "python",
   "pygments_lexer": "ipython3",
   "version": "3.11.7"
  }
 },
 "nbformat": 4,
 "nbformat_minor": 5
}
